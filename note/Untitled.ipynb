{
 "cells": [
  {
   "cell_type": "code",
   "execution_count": 2,
   "id": "3b8d8ff9-faf6-44f7-b85a-e9aa631821c5",
   "metadata": {},
   "outputs": [],
   "source": [
    "import numpy as np\n",
    "from PIL import Image\n",
    "from keras.models import load_model\n",
    "import os\n",
    "\n",
    "\n",
    "# 모델 로드\n",
    "# dir = __file__\n",
    "# path = os.path.dirname(dir)\n",
    "# full_path = os.path.join(path, \"mnist240924.keras\")\n",
    "\n",
    "model = load_model(\"../mnist240924.keras\")  # 학습된 모델 파일 경로\n",
    "\n",
    "\n",
    "# 사용자 이미지 불러오기 및 전처리\n",
    "def preprocess_image(image_path):\n",
    "    img = Image.open(image_path).convert(\"L\")  # 흑백 이미지로 변환\n",
    "    img = img.resize((28, 28))  # 크기 조정\n",
    "\n",
    "    # 흑백 반전\n",
    "    img = 255 - np.array(img)  # 흑백 반전\n",
    "\n",
    "    img = np.array(img)\n",
    "    img = img.reshape(1, 28, 28, 1)  # 모델 입력 형태에 맞게 변형\n",
    "    img = img / 255.0  # 정규화\n",
    "    return img\n",
    "\n",
    "\n",
    "# 예측\n",
    "def predict_digit(image_path):\n",
    "    img = preprocess_image(image_path)\n",
    "    prediction = model.predict(img)\n",
    "    digit = np.argmax(prediction)\n",
    "    return digit\n",
    "\n",
    "\n",
    "# 사용자 이미지 경로\n",
    "# image_path = \"/home/diginori/code/samdul77food/note/555.png\"\n",
    "\n",
    "# 예측 실행\n",
    "# predicted_digit = predict_digit(image_path)\n",
    "# print(\"예측된 숫자:\", predicted_digit)\n"
   ]
  },
  {
   "cell_type": "code",
   "execution_count": 3,
   "id": "12a7f790-3a59-451b-a26f-007ecc966af4",
   "metadata": {},
   "outputs": [],
   "source": [
    "from tensorflow.keras.datasets import mnist\n",
    "import os\n"
   ]
  },
  {
   "cell_type": "code",
   "execution_count": 4,
   "id": "26a917e6-0032-4bf6-9d3f-f279efd8e4fe",
   "metadata": {},
   "outputs": [],
   "source": [
    "(train_images, train_lables), (test_images, test_lables) = mnist.load_data()"
   ]
  },
  {
   "cell_type": "code",
   "execution_count": null,
   "id": "4f3fd210-e635-4874-81ec-3241c1a71107",
   "metadata": {},
   "outputs": [],
   "source": [
    "train_images.shape"
   ]
  },
  {
   "cell_type": "code",
   "execution_count": null,
   "id": "7b5cf8bd-474e-4ee4-9c59-117d17f2c551",
   "metadata": {},
   "outputs": [],
   "source": [
    "train_images[0]"
   ]
  },
  {
   "cell_type": "code",
   "execution_count": null,
   "id": "1f08e44d-f612-4e6a-b701-0b5b9d54af25",
   "metadata": {},
   "outputs": [],
   "source": [
    "for x in train_images[0]:\n",
    "    for i in x:\n",
    "        print('{:3} '.format(i), end='' )\n",
    "    print()"
   ]
  },
  {
   "cell_type": "code",
   "execution_count": 2,
   "id": "2e6f2df5-9ddf-431c-9c0c-b2dd875e8dea",
   "metadata": {},
   "outputs": [],
   "source": [
    "from keras.models import load_model\n",
    "from tensorflow.keras.datasets import mnist\n",
    "from PIL import Image\n",
    "import os\n",
    "\n",
    "model = load_model(\"../mnist240924.keras\")  # 학습된 모델 파일 경로\n",
    "\n",
    "(train_images, train_lables), (test_images, test_lables) = mnist.load_data()\n",
    "\n",
    "save_dir=\"train_img\"\n",
    "\n",
    "def save_images(images, labels):\n",
    "    \n",
    "    if not os.path.exists(save_dir):\n",
    "        os.makedirs(save_dir)\n",
    "\n",
    "    for i, (image, label) in enumerate(zip(images,labels)):\n",
    "        img = Image.fromarray(image)\n",
    "        name = f'{label}_{i}.png'\n",
    "        img.save(os.path.join(save_dir, name))\n",
    "\n",
    "save_images(train_images, train_lables)"
   ]
  },
  {
   "cell_type": "code",
   "execution_count": null,
   "id": "b998cc9a",
   "metadata": {},
   "outputs": [],
   "source": []
  }
 ],
 "metadata": {
  "kernelspec": {
   "display_name": "Python 3 (ipykernel)",
   "language": "python",
   "name": "python3"
  },
  "language_info": {
   "codemirror_mode": {
    "name": "ipython",
    "version": 3
   },
   "file_extension": ".py",
   "mimetype": "text/x-python",
   "name": "python",
   "nbconvert_exporter": "python",
   "pygments_lexer": "ipython3",
   "version": "3.11.9"
  }
 },
 "nbformat": 4,
 "nbformat_minor": 5
}
